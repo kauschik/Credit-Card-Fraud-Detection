{
  "cells": [
    {
      "cell_type": "markdown",
      "source": [
        "# CREDIT CARD FRAUD DETECTION\n",
        "\n",
        "**Project Source:** *Kaggle (https://www.kaggle.com/datasets/mlg-ulb/creditcardfraud)*"
      ],
      "metadata": {
        "id": "fSMp3Bs_e_Rk"
      }
    },
    {
      "cell_type": "markdown",
      "source": [
        "**Project By :**  *Narra SuryaKoushik Reddy*\n",
        "\n",
        "**Project for :**  *Data Science in JNTU Hyderabad*\n",
        "\n",
        "**E-Mail :**  *narrasuryakoushikreddy@gmail.com*"
      ],
      "metadata": {
        "id": "rxI9Su0LeeZr"
      }
    },
    {
      "cell_type": "markdown",
      "metadata": {
        "id": "fepjJQvAXazG"
      },
      "source": [
        "\n",
        "\n",
        "*   Importing Dependences\n",
        "\n"
      ]
    },
    {
      "cell_type": "code",
      "execution_count": null,
      "metadata": {
        "id": "YgzSsw3MXQPy"
      },
      "outputs": [],
      "source": [
        "import pandas as pd\n",
        "import numpy as np\n",
        "import matplotlib.pyplot as plt\n",
        "import seaborn as sns\n",
        "import warnings\n",
        "warnings.filterwarnings(\"ignore\")\n",
        "plt.style.use('bmh')\n",
        "from sklearn.model_selection import train_test_split\n",
        "from sklearn.linear_model import LogisticRegression\n",
        "from sklearn.metrics import accuracy_score"
      ]
    },
    {
      "cell_type": "code",
      "execution_count": null,
      "metadata": {
        "id": "scd3mT4LX7cF"
      },
      "outputs": [],
      "source": [
        "# Loading the dataset \n",
        "cc_data = pd.read_csv('/content/drive/MyDrive/Colab Notebooks/CC Fraud detection/creditcard.csv')"
      ]
    },
    {
      "cell_type": "code",
      "execution_count": null,
      "metadata": {
        "colab": {
          "base_uri": "https://localhost:8080/"
        },
        "id": "sxxLEH6_wsIp",
        "outputId": "505c868b-5f80-4c4e-a8ba-5efcdccdd303"
      },
      "outputs": [
        {
          "output_type": "stream",
          "name": "stdout",
          "text": [
            "First 5 rowns of data\n",
            "   Time        V1        V2        V3        V4        V5        V6        V7  \\\n",
            "0   0.0 -1.359807 -0.072781  2.536347  1.378155 -0.338321  0.462388  0.239599   \n",
            "1   0.0  1.191857  0.266151  0.166480  0.448154  0.060018 -0.082361 -0.078803   \n",
            "2   1.0 -1.358354 -1.340163  1.773209  0.379780 -0.503198  1.800499  0.791461   \n",
            "3   1.0 -0.966272 -0.185226  1.792993 -0.863291 -0.010309  1.247203  0.237609   \n",
            "4   2.0 -1.158233  0.877737  1.548718  0.403034 -0.407193  0.095921  0.592941   \n",
            "\n",
            "         V8        V9  ...       V21       V22       V23       V24       V25  \\\n",
            "0  0.098698  0.363787  ... -0.018307  0.277838 -0.110474  0.066928  0.128539   \n",
            "1  0.085102 -0.255425  ... -0.225775 -0.638672  0.101288 -0.339846  0.167170   \n",
            "2  0.247676 -1.514654  ...  0.247998  0.771679  0.909412 -0.689281 -0.327642   \n",
            "3  0.377436 -1.387024  ... -0.108300  0.005274 -0.190321 -1.175575  0.647376   \n",
            "4 -0.270533  0.817739  ... -0.009431  0.798278 -0.137458  0.141267 -0.206010   \n",
            "\n",
            "        V26       V27       V28  Amount  Class  \n",
            "0 -0.189115  0.133558 -0.021053  149.62      0  \n",
            "1  0.125895 -0.008983  0.014724    2.69      0  \n",
            "2 -0.139097 -0.055353 -0.059752  378.66      0  \n",
            "3 -0.221929  0.062723  0.061458  123.50      0  \n",
            "4  0.502292  0.219422  0.215153   69.99      0  \n",
            "\n",
            "[5 rows x 31 columns]\n",
            "Last 5 rowns of data\n",
            "            Time         V1         V2        V3        V4        V5  \\\n",
            "284802  172786.0 -11.881118  10.071785 -9.834783 -2.066656 -5.364473   \n",
            "284803  172787.0  -0.732789  -0.055080  2.035030 -0.738589  0.868229   \n",
            "284804  172788.0   1.919565  -0.301254 -3.249640 -0.557828  2.630515   \n",
            "284805  172788.0  -0.240440   0.530483  0.702510  0.689799 -0.377961   \n",
            "284806  172792.0  -0.533413  -0.189733  0.703337 -0.506271 -0.012546   \n",
            "\n",
            "              V6        V7        V8        V9  ...       V21       V22  \\\n",
            "284802 -2.606837 -4.918215  7.305334  1.914428  ...  0.213454  0.111864   \n",
            "284803  1.058415  0.024330  0.294869  0.584800  ...  0.214205  0.924384   \n",
            "284804  3.031260 -0.296827  0.708417  0.432454  ...  0.232045  0.578229   \n",
            "284805  0.623708 -0.686180  0.679145  0.392087  ...  0.265245  0.800049   \n",
            "284806 -0.649617  1.577006 -0.414650  0.486180  ...  0.261057  0.643078   \n",
            "\n",
            "             V23       V24       V25       V26       V27       V28  Amount  \\\n",
            "284802  1.014480 -0.509348  1.436807  0.250034  0.943651  0.823731    0.77   \n",
            "284803  0.012463 -1.016226 -0.606624 -0.395255  0.068472 -0.053527   24.79   \n",
            "284804 -0.037501  0.640134  0.265745 -0.087371  0.004455 -0.026561   67.88   \n",
            "284805 -0.163298  0.123205 -0.569159  0.546668  0.108821  0.104533   10.00   \n",
            "284806  0.376777  0.008797 -0.473649 -0.818267 -0.002415  0.013649  217.00   \n",
            "\n",
            "        Class  \n",
            "284802      0  \n",
            "284803      0  \n",
            "284804      0  \n",
            "284805      0  \n",
            "284806      0  \n",
            "\n",
            "[5 rows x 31 columns]\n"
          ]
        }
      ],
      "source": [
        "\n",
        "print(\"First 5 rowns of data\")\n",
        "print(cc_data.head())\n",
        "print(\"Last 5 rowns of data\")\n",
        "print(cc_data.tail())"
      ]
    },
    {
      "cell_type": "code",
      "execution_count": null,
      "metadata": {
        "colab": {
          "base_uri": "https://localhost:8080/"
        },
        "id": "I2Y2zrqwxDRV",
        "outputId": "d17ea7e8-debb-46ad-d39c-2baca247d946"
      },
      "outputs": [
        {
          "output_type": "stream",
          "name": "stdout",
          "text": [
            "<class 'pandas.core.frame.DataFrame'>\n",
            "RangeIndex: 284807 entries, 0 to 284806\n",
            "Data columns (total 31 columns):\n",
            " #   Column  Non-Null Count   Dtype  \n",
            "---  ------  --------------   -----  \n",
            " 0   Time    284807 non-null  float64\n",
            " 1   V1      284807 non-null  float64\n",
            " 2   V2      284807 non-null  float64\n",
            " 3   V3      284807 non-null  float64\n",
            " 4   V4      284807 non-null  float64\n",
            " 5   V5      284807 non-null  float64\n",
            " 6   V6      284807 non-null  float64\n",
            " 7   V7      284807 non-null  float64\n",
            " 8   V8      284807 non-null  float64\n",
            " 9   V9      284807 non-null  float64\n",
            " 10  V10     284807 non-null  float64\n",
            " 11  V11     284807 non-null  float64\n",
            " 12  V12     284807 non-null  float64\n",
            " 13  V13     284807 non-null  float64\n",
            " 14  V14     284807 non-null  float64\n",
            " 15  V15     284807 non-null  float64\n",
            " 16  V16     284807 non-null  float64\n",
            " 17  V17     284807 non-null  float64\n",
            " 18  V18     284807 non-null  float64\n",
            " 19  V19     284807 non-null  float64\n",
            " 20  V20     284807 non-null  float64\n",
            " 21  V21     284807 non-null  float64\n",
            " 22  V22     284807 non-null  float64\n",
            " 23  V23     284807 non-null  float64\n",
            " 24  V24     284807 non-null  float64\n",
            " 25  V25     284807 non-null  float64\n",
            " 26  V26     284807 non-null  float64\n",
            " 27  V27     284807 non-null  float64\n",
            " 28  V28     284807 non-null  float64\n",
            " 29  Amount  284807 non-null  float64\n",
            " 30  Class   284807 non-null  int64  \n",
            "dtypes: float64(30), int64(1)\n",
            "memory usage: 67.4 MB\n"
          ]
        }
      ],
      "source": [
        "# Details of the Dataset\n",
        "cc_data.info()"
      ]
    },
    {
      "cell_type": "code",
      "execution_count": null,
      "metadata": {
        "colab": {
          "base_uri": "https://localhost:8080/"
        },
        "id": "cV9mHQ9cyJBJ",
        "outputId": "7b3b0d2c-29b4-4f90-b09b-48e040e4faad"
      },
      "outputs": [
        {
          "output_type": "execute_result",
          "data": {
            "text/plain": [
              "Time      0\n",
              "V1        0\n",
              "V2        0\n",
              "V3        0\n",
              "V4        0\n",
              "V5        0\n",
              "V6        0\n",
              "V7        0\n",
              "V8        0\n",
              "V9        0\n",
              "V10       0\n",
              "V11       0\n",
              "V12       0\n",
              "V13       0\n",
              "V14       0\n",
              "V15       0\n",
              "V16       0\n",
              "V17       0\n",
              "V18       0\n",
              "V19       0\n",
              "V20       0\n",
              "V21       0\n",
              "V22       0\n",
              "V23       0\n",
              "V24       0\n",
              "V25       0\n",
              "V26       0\n",
              "V27       0\n",
              "V28       0\n",
              "Amount    0\n",
              "Class     0\n",
              "dtype: int64"
            ]
          },
          "metadata": {},
          "execution_count": 28
        }
      ],
      "source": [
        "# Missing values in each column\n",
        "cc_data.isnull().sum()"
      ]
    },
    {
      "cell_type": "code",
      "execution_count": null,
      "metadata": {
        "colab": {
          "base_uri": "https://localhost:8080/"
        },
        "id": "RV0BAnoyyYs7",
        "outputId": "dccaec80-dc75-43c4-87af-27fdcf92ccf2"
      },
      "outputs": [
        {
          "output_type": "execute_result",
          "data": {
            "text/plain": [
              "0    284315\n",
              "1       492\n",
              "Name: Class, dtype: int64"
            ]
          },
          "metadata": {},
          "execution_count": 29
        }
      ],
      "source": [
        "# Grouping legit and fraudulend transactions.\n",
        "cc_data['Class'].value_counts() "
      ]
    },
    {
      "cell_type": "markdown",
      "metadata": {
        "id": "WaZW0ngPzWF4"
      },
      "source": [
        "# Dataset is not balanced\n"
      ]
    },
    {
      "cell_type": "markdown",
      "metadata": {
        "id": "bCO3O8GAzdkw"
      },
      "source": [
        "Legit transaction --> 0,\n",
        "\n",
        "Fraudulent transation --> 1"
      ]
    },
    {
      "cell_type": "code",
      "execution_count": null,
      "metadata": {
        "id": "r9VkRslYzF6Y"
      },
      "outputs": [],
      "source": [
        "# Data analysis (separating data)\n",
        "legit = cc_data[cc_data.Class == 0]\n",
        "fraud = cc_data[cc_data.Class == 1]"
      ]
    },
    {
      "cell_type": "code",
      "execution_count": null,
      "metadata": {
        "colab": {
          "base_uri": "https://localhost:8080/"
        },
        "id": "ku1CFIvv0KhX",
        "outputId": "50030a23-12e1-4676-f359-c4022a0f55e2"
      },
      "outputs": [
        {
          "output_type": "stream",
          "name": "stdout",
          "text": [
            "(284315, 31)\n",
            "(492, 31)\n"
          ]
        }
      ],
      "source": [
        "print(legit.shape)\n",
        "print(fraud.shape)"
      ]
    },
    {
      "cell_type": "code",
      "execution_count": null,
      "metadata": {
        "id": "KGvX3vUz0OFI",
        "colab": {
          "base_uri": "https://localhost:8080/"
        },
        "outputId": "c00e5195-e2df-427f-abf3-a1c7fe55d6d2"
      },
      "outputs": [
        {
          "output_type": "execute_result",
          "data": {
            "text/plain": [
              "count    284315.000000\n",
              "mean         88.291022\n",
              "std         250.105092\n",
              "min           0.000000\n",
              "25%           5.650000\n",
              "50%          22.000000\n",
              "75%          77.050000\n",
              "max       25691.160000\n",
              "Name: Amount, dtype: float64"
            ]
          },
          "metadata": {},
          "execution_count": 35
        }
      ],
      "source": [
        "# Discription of the legit Data\n",
        "legit.Amount.describe()"
      ]
    },
    {
      "cell_type": "code",
      "source": [
        "# Discription of the fraudulent Data\n",
        "fraud.Amount.describe()"
      ],
      "metadata": {
        "colab": {
          "base_uri": "https://localhost:8080/"
        },
        "id": "k30yJj0J7qlR",
        "outputId": "2a64dd9c-495f-4c7e-f589-ca806f8ba7a1"
      },
      "execution_count": null,
      "outputs": [
        {
          "output_type": "execute_result",
          "data": {
            "text/plain": [
              "count     492.000000\n",
              "mean      122.211321\n",
              "std       256.683288\n",
              "min         0.000000\n",
              "25%         1.000000\n",
              "50%         9.250000\n",
              "75%       105.890000\n",
              "max      2125.870000\n",
              "Name: Amount, dtype: float64"
            ]
          },
          "metadata": {},
          "execution_count": 38
        }
      ]
    },
    {
      "cell_type": "code",
      "source": [
        "# comparing values of both transation\n",
        "cc_data.groupby('Class').mean() "
      ],
      "metadata": {
        "colab": {
          "base_uri": "https://localhost:8080/",
          "height": 237
        },
        "id": "cK5Vykua8KfU",
        "outputId": "841cd2b3-ae84-45f1-e587-3a38c5238e71"
      },
      "execution_count": null,
      "outputs": [
        {
          "output_type": "execute_result",
          "data": {
            "text/plain": [
              "               Time        V1        V2        V3        V4        V5  \\\n",
              "Class                                                                   \n",
              "0      94838.202258  0.008258 -0.006271  0.012171 -0.007860  0.005453   \n",
              "1      80746.806911 -4.771948  3.623778 -7.033281  4.542029 -3.151225   \n",
              "\n",
              "             V6        V7        V8        V9  ...       V20       V21  \\\n",
              "Class                                          ...                       \n",
              "0      0.002419  0.009637 -0.000987  0.004467  ... -0.000644 -0.001235   \n",
              "1     -1.397737 -5.568731  0.570636 -2.581123  ...  0.372319  0.713588   \n",
              "\n",
              "            V22       V23       V24       V25       V26       V27       V28  \\\n",
              "Class                                                                         \n",
              "0     -0.000024  0.000070  0.000182 -0.000072 -0.000089 -0.000295 -0.000131   \n",
              "1      0.014049 -0.040308 -0.105130  0.041449  0.051648  0.170575  0.075667   \n",
              "\n",
              "           Amount  \n",
              "Class              \n",
              "0       88.291022  \n",
              "1      122.211321  \n",
              "\n",
              "[2 rows x 30 columns]"
            ],
            "text/html": [
              "\n",
              "  <div id=\"df-a83fbb73-a097-4710-9340-9130b7df60a6\">\n",
              "    <div class=\"colab-df-container\">\n",
              "      <div>\n",
              "<style scoped>\n",
              "    .dataframe tbody tr th:only-of-type {\n",
              "        vertical-align: middle;\n",
              "    }\n",
              "\n",
              "    .dataframe tbody tr th {\n",
              "        vertical-align: top;\n",
              "    }\n",
              "\n",
              "    .dataframe thead th {\n",
              "        text-align: right;\n",
              "    }\n",
              "</style>\n",
              "<table border=\"1\" class=\"dataframe\">\n",
              "  <thead>\n",
              "    <tr style=\"text-align: right;\">\n",
              "      <th></th>\n",
              "      <th>Time</th>\n",
              "      <th>V1</th>\n",
              "      <th>V2</th>\n",
              "      <th>V3</th>\n",
              "      <th>V4</th>\n",
              "      <th>V5</th>\n",
              "      <th>V6</th>\n",
              "      <th>V7</th>\n",
              "      <th>V8</th>\n",
              "      <th>V9</th>\n",
              "      <th>...</th>\n",
              "      <th>V20</th>\n",
              "      <th>V21</th>\n",
              "      <th>V22</th>\n",
              "      <th>V23</th>\n",
              "      <th>V24</th>\n",
              "      <th>V25</th>\n",
              "      <th>V26</th>\n",
              "      <th>V27</th>\n",
              "      <th>V28</th>\n",
              "      <th>Amount</th>\n",
              "    </tr>\n",
              "    <tr>\n",
              "      <th>Class</th>\n",
              "      <th></th>\n",
              "      <th></th>\n",
              "      <th></th>\n",
              "      <th></th>\n",
              "      <th></th>\n",
              "      <th></th>\n",
              "      <th></th>\n",
              "      <th></th>\n",
              "      <th></th>\n",
              "      <th></th>\n",
              "      <th></th>\n",
              "      <th></th>\n",
              "      <th></th>\n",
              "      <th></th>\n",
              "      <th></th>\n",
              "      <th></th>\n",
              "      <th></th>\n",
              "      <th></th>\n",
              "      <th></th>\n",
              "      <th></th>\n",
              "      <th></th>\n",
              "    </tr>\n",
              "  </thead>\n",
              "  <tbody>\n",
              "    <tr>\n",
              "      <th>0</th>\n",
              "      <td>94838.202258</td>\n",
              "      <td>0.008258</td>\n",
              "      <td>-0.006271</td>\n",
              "      <td>0.012171</td>\n",
              "      <td>-0.007860</td>\n",
              "      <td>0.005453</td>\n",
              "      <td>0.002419</td>\n",
              "      <td>0.009637</td>\n",
              "      <td>-0.000987</td>\n",
              "      <td>0.004467</td>\n",
              "      <td>...</td>\n",
              "      <td>-0.000644</td>\n",
              "      <td>-0.001235</td>\n",
              "      <td>-0.000024</td>\n",
              "      <td>0.000070</td>\n",
              "      <td>0.000182</td>\n",
              "      <td>-0.000072</td>\n",
              "      <td>-0.000089</td>\n",
              "      <td>-0.000295</td>\n",
              "      <td>-0.000131</td>\n",
              "      <td>88.291022</td>\n",
              "    </tr>\n",
              "    <tr>\n",
              "      <th>1</th>\n",
              "      <td>80746.806911</td>\n",
              "      <td>-4.771948</td>\n",
              "      <td>3.623778</td>\n",
              "      <td>-7.033281</td>\n",
              "      <td>4.542029</td>\n",
              "      <td>-3.151225</td>\n",
              "      <td>-1.397737</td>\n",
              "      <td>-5.568731</td>\n",
              "      <td>0.570636</td>\n",
              "      <td>-2.581123</td>\n",
              "      <td>...</td>\n",
              "      <td>0.372319</td>\n",
              "      <td>0.713588</td>\n",
              "      <td>0.014049</td>\n",
              "      <td>-0.040308</td>\n",
              "      <td>-0.105130</td>\n",
              "      <td>0.041449</td>\n",
              "      <td>0.051648</td>\n",
              "      <td>0.170575</td>\n",
              "      <td>0.075667</td>\n",
              "      <td>122.211321</td>\n",
              "    </tr>\n",
              "  </tbody>\n",
              "</table>\n",
              "<p>2 rows × 30 columns</p>\n",
              "</div>\n",
              "      <button class=\"colab-df-convert\" onclick=\"convertToInteractive('df-a83fbb73-a097-4710-9340-9130b7df60a6')\"\n",
              "              title=\"Convert this dataframe to an interactive table.\"\n",
              "              style=\"display:none;\">\n",
              "        \n",
              "  <svg xmlns=\"http://www.w3.org/2000/svg\" height=\"24px\"viewBox=\"0 0 24 24\"\n",
              "       width=\"24px\">\n",
              "    <path d=\"M0 0h24v24H0V0z\" fill=\"none\"/>\n",
              "    <path d=\"M18.56 5.44l.94 2.06.94-2.06 2.06-.94-2.06-.94-.94-2.06-.94 2.06-2.06.94zm-11 1L8.5 8.5l.94-2.06 2.06-.94-2.06-.94L8.5 2.5l-.94 2.06-2.06.94zm10 10l.94 2.06.94-2.06 2.06-.94-2.06-.94-.94-2.06-.94 2.06-2.06.94z\"/><path d=\"M17.41 7.96l-1.37-1.37c-.4-.4-.92-.59-1.43-.59-.52 0-1.04.2-1.43.59L10.3 9.45l-7.72 7.72c-.78.78-.78 2.05 0 2.83L4 21.41c.39.39.9.59 1.41.59.51 0 1.02-.2 1.41-.59l7.78-7.78 2.81-2.81c.8-.78.8-2.07 0-2.86zM5.41 20L4 18.59l7.72-7.72 1.47 1.35L5.41 20z\"/>\n",
              "  </svg>\n",
              "      </button>\n",
              "      \n",
              "  <style>\n",
              "    .colab-df-container {\n",
              "      display:flex;\n",
              "      flex-wrap:wrap;\n",
              "      gap: 12px;\n",
              "    }\n",
              "\n",
              "    .colab-df-convert {\n",
              "      background-color: #E8F0FE;\n",
              "      border: none;\n",
              "      border-radius: 50%;\n",
              "      cursor: pointer;\n",
              "      display: none;\n",
              "      fill: #1967D2;\n",
              "      height: 32px;\n",
              "      padding: 0 0 0 0;\n",
              "      width: 32px;\n",
              "    }\n",
              "\n",
              "    .colab-df-convert:hover {\n",
              "      background-color: #E2EBFA;\n",
              "      box-shadow: 0px 1px 2px rgba(60, 64, 67, 0.3), 0px 1px 3px 1px rgba(60, 64, 67, 0.15);\n",
              "      fill: #174EA6;\n",
              "    }\n",
              "\n",
              "    [theme=dark] .colab-df-convert {\n",
              "      background-color: #3B4455;\n",
              "      fill: #D2E3FC;\n",
              "    }\n",
              "\n",
              "    [theme=dark] .colab-df-convert:hover {\n",
              "      background-color: #434B5C;\n",
              "      box-shadow: 0px 1px 3px 1px rgba(0, 0, 0, 0.15);\n",
              "      filter: drop-shadow(0px 1px 2px rgba(0, 0, 0, 0.3));\n",
              "      fill: #FFFFFF;\n",
              "    }\n",
              "  </style>\n",
              "\n",
              "      <script>\n",
              "        const buttonEl =\n",
              "          document.querySelector('#df-a83fbb73-a097-4710-9340-9130b7df60a6 button.colab-df-convert');\n",
              "        buttonEl.style.display =\n",
              "          google.colab.kernel.accessAllowed ? 'block' : 'none';\n",
              "\n",
              "        async function convertToInteractive(key) {\n",
              "          const element = document.querySelector('#df-a83fbb73-a097-4710-9340-9130b7df60a6');\n",
              "          const dataTable =\n",
              "            await google.colab.kernel.invokeFunction('convertToInteractive',\n",
              "                                                     [key], {});\n",
              "          if (!dataTable) return;\n",
              "\n",
              "          const docLinkHtml = 'Like what you see? Visit the ' +\n",
              "            '<a target=\"_blank\" href=https://colab.research.google.com/notebooks/data_table.ipynb>data table notebook</a>'\n",
              "            + ' to learn more about interactive tables.';\n",
              "          element.innerHTML = '';\n",
              "          dataTable['output_type'] = 'display_data';\n",
              "          await google.colab.output.renderOutput(dataTable, element);\n",
              "          const docLink = document.createElement('div');\n",
              "          docLink.innerHTML = docLinkHtml;\n",
              "          element.appendChild(docLink);\n",
              "        }\n",
              "      </script>\n",
              "    </div>\n",
              "  </div>\n",
              "  "
            ]
          },
          "metadata": {},
          "execution_count": 39
        }
      ]
    },
    {
      "cell_type": "code",
      "source": [],
      "metadata": {
        "id": "Nm1zAMBj8gNt"
      },
      "execution_count": null,
      "outputs": []
    },
    {
      "cell_type": "markdown",
      "source": [
        "# Under-Sampling\n",
        "\n",
        "Building a sample dataset containing similar distribution of legit transactions and Fraudulent Transactions "
      ],
      "metadata": {
        "id": "osKZixCo8jI8"
      }
    },
    {
      "cell_type": "markdown",
      "source": [
        "Number oif Fraudulent Transations --> 492"
      ],
      "metadata": {
        "id": "6jwezpCJ9K7v"
      }
    },
    {
      "cell_type": "code",
      "source": [
        "legit_sample = legit.sample(n=492)"
      ],
      "metadata": {
        "id": "toA2-JjM9Hsj"
      },
      "execution_count": null,
      "outputs": []
    },
    {
      "cell_type": "markdown",
      "source": [
        "Concatenating two Data Frames\n",
        "\n"
      ],
      "metadata": {
        "id": "q_B-KSp79a76"
      }
    },
    {
      "cell_type": "code",
      "source": [
        "new_data = pd.concat([legit_sample, fraud], axis=0) "
      ],
      "metadata": {
        "id": "oAtuDwZh9WZR"
      },
      "execution_count": null,
      "outputs": []
    },
    {
      "cell_type": "code",
      "source": [
        "print(\"First 5 rowns of data\")\n",
        "print(new_data.head())\n",
        "print(\"Last 5 rowns of data\")\n",
        "print(new_data.tail())"
      ],
      "metadata": {
        "colab": {
          "base_uri": "https://localhost:8080/"
        },
        "id": "t2yhv6f19sCr",
        "outputId": "ad7ccca0-ef08-48a8-9541-10b2d3213fd9"
      },
      "execution_count": null,
      "outputs": [
        {
          "output_type": "stream",
          "name": "stdout",
          "text": [
            "First 5 rowns of data\n",
            "            Time        V1        V2        V3        V4        V5        V6  \\\n",
            "278983  168568.0 -0.633367 -0.209812  0.799048 -1.255835 -0.507774  0.139280   \n",
            "88128    61998.0 -0.376680  0.423100  2.259825 -0.028972 -0.703751  0.027954   \n",
            "18484    29539.0  0.947649 -0.082725  0.731251  1.351093 -0.620014 -0.422054   \n",
            "48072    43484.0 -0.005901  0.014000  1.149302 -1.189750  0.073894  0.223494   \n",
            "98104    66521.0 -0.195131  0.373973  1.234187 -1.261088 -0.394557 -0.777923   \n",
            "\n",
            "              V7        V8        V9  ...       V21       V22       V23  \\\n",
            "278983  0.673000 -0.032002 -1.218490  ... -0.235066 -0.213207 -0.024843   \n",
            "88128  -0.105448  0.228011  0.317381  ...  0.274027  0.727819 -0.175753   \n",
            "18484  -0.016410 -0.014109  0.115712  ...  0.031350 -0.099200  0.014402   \n",
            "48072   0.649370 -0.516010 -1.067366  ...  0.262399  1.083823 -0.274848   \n",
            "98104   0.096931  0.012420 -1.615675  ...  0.034995 -0.080002  0.058455   \n",
            "\n",
            "             V24       V25       V26       V27       V28  Amount  Class  \n",
            "278983 -0.423087 -0.430867  0.228591  0.060273  0.128215  160.21      0  \n",
            "88128  -0.099335 -0.202768  0.465154  0.058439  0.067656   35.04      0  \n",
            "18484   0.371860  0.253628 -0.479422  0.030756  0.049019  106.89      0  \n",
            "48072  -0.708646 -0.330401 -0.077370 -0.261153 -0.315882   64.36      0  \n",
            "98104   0.215556 -0.691219 -0.609697  0.160780  0.174838   15.00      0  \n",
            "\n",
            "[5 rows x 31 columns]\n",
            "Last 5 rowns of data\n",
            "            Time        V1        V2        V3        V4        V5        V6  \\\n",
            "279863  169142.0 -1.927883  1.125653 -4.518331  1.749293 -1.566487 -2.010494   \n",
            "280143  169347.0  1.378559  1.289381 -5.004247  1.411850  0.442581 -1.326536   \n",
            "280149  169351.0 -0.676143  1.126366 -2.213700  0.468308 -1.120541 -0.003346   \n",
            "281144  169966.0 -3.113832  0.585864 -5.399730  1.817092 -0.840618 -2.943548   \n",
            "281674  170348.0  1.991976  0.158476 -2.583441  0.408670  1.151147 -0.096695   \n",
            "\n",
            "              V7        V8        V9  ...       V21       V22       V23  \\\n",
            "279863 -0.882850  0.697211 -2.064945  ...  0.778584 -0.319189  0.639419   \n",
            "280143 -1.413170  0.248525 -1.127396  ...  0.370612  0.028234 -0.145640   \n",
            "280149 -2.234739  1.210158 -0.652250  ...  0.751826  0.834108  0.190944   \n",
            "281144 -2.208002  1.058733 -1.632333  ...  0.583276 -0.269209 -0.456108   \n",
            "281674  0.223050 -0.068384  0.577829  ... -0.164350 -0.295135 -0.072173   \n",
            "\n",
            "             V24       V25       V26       V27       V28  Amount  Class  \n",
            "279863 -0.294885  0.537503  0.788395  0.292680  0.147968  390.00      1  \n",
            "280143 -0.081049  0.521875  0.739467  0.389152  0.186637    0.76      1  \n",
            "280149  0.032070 -0.739695  0.471111  0.385107  0.194361   77.89      1  \n",
            "281144 -0.183659 -0.328168  0.606116  0.884876 -0.253700  245.00      1  \n",
            "281674 -0.450261  0.313267 -0.289617  0.002988 -0.015309   42.53      1  \n",
            "\n",
            "[5 rows x 31 columns]\n"
          ]
        }
      ]
    },
    {
      "cell_type": "code",
      "source": [
        "new_data['Class'].value_counts()"
      ],
      "metadata": {
        "colab": {
          "base_uri": "https://localhost:8080/"
        },
        "id": "WMc2vJP-9vFS",
        "outputId": "e7163262-8c56-4d7d-8223-52a68959f160"
      },
      "execution_count": null,
      "outputs": [
        {
          "output_type": "execute_result",
          "data": {
            "text/plain": [
              "0    492\n",
              "1    492\n",
              "Name: Class, dtype: int64"
            ]
          },
          "metadata": {},
          "execution_count": 54
        }
      ]
    },
    {
      "cell_type": "code",
      "source": [
        "new_data.groupby('Class').mean()"
      ],
      "metadata": {
        "colab": {
          "base_uri": "https://localhost:8080/",
          "height": 237
        },
        "id": "2KKRIUEu-UJP",
        "outputId": "f19b965a-281e-49dc-d450-4814b8cd83f7"
      },
      "execution_count": null,
      "outputs": [
        {
          "output_type": "execute_result",
          "data": {
            "text/plain": [
              "               Time        V1        V2        V3        V4        V5  \\\n",
              "Class                                                                   \n",
              "0      92074.241870 -0.117639 -0.000350  0.016308  0.030149 -0.095759   \n",
              "1      80746.806911 -4.771948  3.623778 -7.033281  4.542029 -3.151225   \n",
              "\n",
              "             V6        V7        V8        V9  ...       V20       V21  \\\n",
              "Class                                          ...                       \n",
              "0      0.070861  0.022181 -0.027319  0.055543  ... -0.049824  0.019874   \n",
              "1     -1.397737 -5.568731  0.570636 -2.581123  ...  0.372319  0.713588   \n",
              "\n",
              "            V22       V23       V24       V25       V26       V27       V28  \\\n",
              "Class                                                                         \n",
              "0      0.018394  0.016814  0.021437  0.000078 -0.007793  0.009007 -0.026463   \n",
              "1      0.014049 -0.040308 -0.105130  0.041449  0.051648  0.170575  0.075667   \n",
              "\n",
              "           Amount  \n",
              "Class              \n",
              "0       90.250711  \n",
              "1      122.211321  \n",
              "\n",
              "[2 rows x 30 columns]"
            ],
            "text/html": [
              "\n",
              "  <div id=\"df-c8cc1e66-9826-489d-b1c8-48036c3d9bb1\">\n",
              "    <div class=\"colab-df-container\">\n",
              "      <div>\n",
              "<style scoped>\n",
              "    .dataframe tbody tr th:only-of-type {\n",
              "        vertical-align: middle;\n",
              "    }\n",
              "\n",
              "    .dataframe tbody tr th {\n",
              "        vertical-align: top;\n",
              "    }\n",
              "\n",
              "    .dataframe thead th {\n",
              "        text-align: right;\n",
              "    }\n",
              "</style>\n",
              "<table border=\"1\" class=\"dataframe\">\n",
              "  <thead>\n",
              "    <tr style=\"text-align: right;\">\n",
              "      <th></th>\n",
              "      <th>Time</th>\n",
              "      <th>V1</th>\n",
              "      <th>V2</th>\n",
              "      <th>V3</th>\n",
              "      <th>V4</th>\n",
              "      <th>V5</th>\n",
              "      <th>V6</th>\n",
              "      <th>V7</th>\n",
              "      <th>V8</th>\n",
              "      <th>V9</th>\n",
              "      <th>...</th>\n",
              "      <th>V20</th>\n",
              "      <th>V21</th>\n",
              "      <th>V22</th>\n",
              "      <th>V23</th>\n",
              "      <th>V24</th>\n",
              "      <th>V25</th>\n",
              "      <th>V26</th>\n",
              "      <th>V27</th>\n",
              "      <th>V28</th>\n",
              "      <th>Amount</th>\n",
              "    </tr>\n",
              "    <tr>\n",
              "      <th>Class</th>\n",
              "      <th></th>\n",
              "      <th></th>\n",
              "      <th></th>\n",
              "      <th></th>\n",
              "      <th></th>\n",
              "      <th></th>\n",
              "      <th></th>\n",
              "      <th></th>\n",
              "      <th></th>\n",
              "      <th></th>\n",
              "      <th></th>\n",
              "      <th></th>\n",
              "      <th></th>\n",
              "      <th></th>\n",
              "      <th></th>\n",
              "      <th></th>\n",
              "      <th></th>\n",
              "      <th></th>\n",
              "      <th></th>\n",
              "      <th></th>\n",
              "      <th></th>\n",
              "    </tr>\n",
              "  </thead>\n",
              "  <tbody>\n",
              "    <tr>\n",
              "      <th>0</th>\n",
              "      <td>92074.241870</td>\n",
              "      <td>-0.117639</td>\n",
              "      <td>-0.000350</td>\n",
              "      <td>0.016308</td>\n",
              "      <td>0.030149</td>\n",
              "      <td>-0.095759</td>\n",
              "      <td>0.070861</td>\n",
              "      <td>0.022181</td>\n",
              "      <td>-0.027319</td>\n",
              "      <td>0.055543</td>\n",
              "      <td>...</td>\n",
              "      <td>-0.049824</td>\n",
              "      <td>0.019874</td>\n",
              "      <td>0.018394</td>\n",
              "      <td>0.016814</td>\n",
              "      <td>0.021437</td>\n",
              "      <td>0.000078</td>\n",
              "      <td>-0.007793</td>\n",
              "      <td>0.009007</td>\n",
              "      <td>-0.026463</td>\n",
              "      <td>90.250711</td>\n",
              "    </tr>\n",
              "    <tr>\n",
              "      <th>1</th>\n",
              "      <td>80746.806911</td>\n",
              "      <td>-4.771948</td>\n",
              "      <td>3.623778</td>\n",
              "      <td>-7.033281</td>\n",
              "      <td>4.542029</td>\n",
              "      <td>-3.151225</td>\n",
              "      <td>-1.397737</td>\n",
              "      <td>-5.568731</td>\n",
              "      <td>0.570636</td>\n",
              "      <td>-2.581123</td>\n",
              "      <td>...</td>\n",
              "      <td>0.372319</td>\n",
              "      <td>0.713588</td>\n",
              "      <td>0.014049</td>\n",
              "      <td>-0.040308</td>\n",
              "      <td>-0.105130</td>\n",
              "      <td>0.041449</td>\n",
              "      <td>0.051648</td>\n",
              "      <td>0.170575</td>\n",
              "      <td>0.075667</td>\n",
              "      <td>122.211321</td>\n",
              "    </tr>\n",
              "  </tbody>\n",
              "</table>\n",
              "<p>2 rows × 30 columns</p>\n",
              "</div>\n",
              "      <button class=\"colab-df-convert\" onclick=\"convertToInteractive('df-c8cc1e66-9826-489d-b1c8-48036c3d9bb1')\"\n",
              "              title=\"Convert this dataframe to an interactive table.\"\n",
              "              style=\"display:none;\">\n",
              "        \n",
              "  <svg xmlns=\"http://www.w3.org/2000/svg\" height=\"24px\"viewBox=\"0 0 24 24\"\n",
              "       width=\"24px\">\n",
              "    <path d=\"M0 0h24v24H0V0z\" fill=\"none\"/>\n",
              "    <path d=\"M18.56 5.44l.94 2.06.94-2.06 2.06-.94-2.06-.94-.94-2.06-.94 2.06-2.06.94zm-11 1L8.5 8.5l.94-2.06 2.06-.94-2.06-.94L8.5 2.5l-.94 2.06-2.06.94zm10 10l.94 2.06.94-2.06 2.06-.94-2.06-.94-.94-2.06-.94 2.06-2.06.94z\"/><path d=\"M17.41 7.96l-1.37-1.37c-.4-.4-.92-.59-1.43-.59-.52 0-1.04.2-1.43.59L10.3 9.45l-7.72 7.72c-.78.78-.78 2.05 0 2.83L4 21.41c.39.39.9.59 1.41.59.51 0 1.02-.2 1.41-.59l7.78-7.78 2.81-2.81c.8-.78.8-2.07 0-2.86zM5.41 20L4 18.59l7.72-7.72 1.47 1.35L5.41 20z\"/>\n",
              "  </svg>\n",
              "      </button>\n",
              "      \n",
              "  <style>\n",
              "    .colab-df-container {\n",
              "      display:flex;\n",
              "      flex-wrap:wrap;\n",
              "      gap: 12px;\n",
              "    }\n",
              "\n",
              "    .colab-df-convert {\n",
              "      background-color: #E8F0FE;\n",
              "      border: none;\n",
              "      border-radius: 50%;\n",
              "      cursor: pointer;\n",
              "      display: none;\n",
              "      fill: #1967D2;\n",
              "      height: 32px;\n",
              "      padding: 0 0 0 0;\n",
              "      width: 32px;\n",
              "    }\n",
              "\n",
              "    .colab-df-convert:hover {\n",
              "      background-color: #E2EBFA;\n",
              "      box-shadow: 0px 1px 2px rgba(60, 64, 67, 0.3), 0px 1px 3px 1px rgba(60, 64, 67, 0.15);\n",
              "      fill: #174EA6;\n",
              "    }\n",
              "\n",
              "    [theme=dark] .colab-df-convert {\n",
              "      background-color: #3B4455;\n",
              "      fill: #D2E3FC;\n",
              "    }\n",
              "\n",
              "    [theme=dark] .colab-df-convert:hover {\n",
              "      background-color: #434B5C;\n",
              "      box-shadow: 0px 1px 3px 1px rgba(0, 0, 0, 0.15);\n",
              "      filter: drop-shadow(0px 1px 2px rgba(0, 0, 0, 0.3));\n",
              "      fill: #FFFFFF;\n",
              "    }\n",
              "  </style>\n",
              "\n",
              "      <script>\n",
              "        const buttonEl =\n",
              "          document.querySelector('#df-c8cc1e66-9826-489d-b1c8-48036c3d9bb1 button.colab-df-convert');\n",
              "        buttonEl.style.display =\n",
              "          google.colab.kernel.accessAllowed ? 'block' : 'none';\n",
              "\n",
              "        async function convertToInteractive(key) {\n",
              "          const element = document.querySelector('#df-c8cc1e66-9826-489d-b1c8-48036c3d9bb1');\n",
              "          const dataTable =\n",
              "            await google.colab.kernel.invokeFunction('convertToInteractive',\n",
              "                                                     [key], {});\n",
              "          if (!dataTable) return;\n",
              "\n",
              "          const docLinkHtml = 'Like what you see? Visit the ' +\n",
              "            '<a target=\"_blank\" href=https://colab.research.google.com/notebooks/data_table.ipynb>data table notebook</a>'\n",
              "            + ' to learn more about interactive tables.';\n",
              "          element.innerHTML = '';\n",
              "          dataTable['output_type'] = 'display_data';\n",
              "          await google.colab.output.renderOutput(dataTable, element);\n",
              "          const docLink = document.createElement('div');\n",
              "          docLink.innerHTML = docLinkHtml;\n",
              "          element.appendChild(docLink);\n",
              "        }\n",
              "      </script>\n",
              "    </div>\n",
              "  </div>\n",
              "  "
            ]
          },
          "metadata": {},
          "execution_count": 55
        }
      ]
    },
    {
      "cell_type": "code",
      "source": [],
      "metadata": {
        "id": "UIRcQtnq-iSv"
      },
      "execution_count": null,
      "outputs": []
    },
    {
      "cell_type": "markdown",
      "source": [
        "Splitting the data into Features and Targets"
      ],
      "metadata": {
        "id": "IXNIf3Qc-qV_"
      }
    },
    {
      "cell_type": "code",
      "source": [
        "X = new_data.drop(columns = 'Class', axis = 1)\n",
        "Y = new_data['Class']"
      ],
      "metadata": {
        "id": "LxkkDMkw-vCe"
      },
      "execution_count": null,
      "outputs": []
    },
    {
      "cell_type": "code",
      "source": [
        "X"
      ],
      "metadata": {
        "colab": {
          "base_uri": "https://localhost:8080/",
          "height": 488
        },
        "id": "FzmJ8qOV_Big",
        "outputId": "48b122f4-8605-47a3-d496-6f668fc4198b"
      },
      "execution_count": null,
      "outputs": [
        {
          "output_type": "execute_result",
          "data": {
            "text/plain": [
              "            Time        V1        V2        V3        V4        V5        V6  \\\n",
              "278983  168568.0 -0.633367 -0.209812  0.799048 -1.255835 -0.507774  0.139280   \n",
              "88128    61998.0 -0.376680  0.423100  2.259825 -0.028972 -0.703751  0.027954   \n",
              "18484    29539.0  0.947649 -0.082725  0.731251  1.351093 -0.620014 -0.422054   \n",
              "48072    43484.0 -0.005901  0.014000  1.149302 -1.189750  0.073894  0.223494   \n",
              "98104    66521.0 -0.195131  0.373973  1.234187 -1.261088 -0.394557 -0.777923   \n",
              "...          ...       ...       ...       ...       ...       ...       ...   \n",
              "279863  169142.0 -1.927883  1.125653 -4.518331  1.749293 -1.566487 -2.010494   \n",
              "280143  169347.0  1.378559  1.289381 -5.004247  1.411850  0.442581 -1.326536   \n",
              "280149  169351.0 -0.676143  1.126366 -2.213700  0.468308 -1.120541 -0.003346   \n",
              "281144  169966.0 -3.113832  0.585864 -5.399730  1.817092 -0.840618 -2.943548   \n",
              "281674  170348.0  1.991976  0.158476 -2.583441  0.408670  1.151147 -0.096695   \n",
              "\n",
              "              V7        V8        V9  ...       V20       V21       V22  \\\n",
              "278983  0.673000 -0.032002 -1.218490  ... -0.548251 -0.235066 -0.213207   \n",
              "88128  -0.105448  0.228011  0.317381  ...  0.009564  0.274027  0.727819   \n",
              "18484  -0.016410 -0.014109  0.115712  ...  0.022239  0.031350 -0.099200   \n",
              "48072   0.649370 -0.516010 -1.067366  ...  0.322770  0.262399  1.083823   \n",
              "98104   0.096931  0.012420 -1.615675  ...  0.167793  0.034995 -0.080002   \n",
              "...          ...       ...       ...  ...       ...       ...       ...   \n",
              "279863 -0.882850  0.697211 -2.064945  ...  1.252967  0.778584 -0.319189   \n",
              "280143 -1.413170  0.248525 -1.127396  ...  0.226138  0.370612  0.028234   \n",
              "280149 -2.234739  1.210158 -0.652250  ...  0.247968  0.751826  0.834108   \n",
              "281144 -2.208002  1.058733 -1.632333  ...  0.306271  0.583276 -0.269209   \n",
              "281674  0.223050 -0.068384  0.577829  ... -0.017652 -0.164350 -0.295135   \n",
              "\n",
              "             V23       V24       V25       V26       V27       V28  Amount  \n",
              "278983 -0.024843 -0.423087 -0.430867  0.228591  0.060273  0.128215  160.21  \n",
              "88128  -0.175753 -0.099335 -0.202768  0.465154  0.058439  0.067656   35.04  \n",
              "18484   0.014402  0.371860  0.253628 -0.479422  0.030756  0.049019  106.89  \n",
              "48072  -0.274848 -0.708646 -0.330401 -0.077370 -0.261153 -0.315882   64.36  \n",
              "98104   0.058455  0.215556 -0.691219 -0.609697  0.160780  0.174838   15.00  \n",
              "...          ...       ...       ...       ...       ...       ...     ...  \n",
              "279863  0.639419 -0.294885  0.537503  0.788395  0.292680  0.147968  390.00  \n",
              "280143 -0.145640 -0.081049  0.521875  0.739467  0.389152  0.186637    0.76  \n",
              "280149  0.190944  0.032070 -0.739695  0.471111  0.385107  0.194361   77.89  \n",
              "281144 -0.456108 -0.183659 -0.328168  0.606116  0.884876 -0.253700  245.00  \n",
              "281674 -0.072173 -0.450261  0.313267 -0.289617  0.002988 -0.015309   42.53  \n",
              "\n",
              "[984 rows x 30 columns]"
            ],
            "text/html": [
              "\n",
              "  <div id=\"df-9d0cecd7-3df1-4b43-9937-aa3aeed25008\">\n",
              "    <div class=\"colab-df-container\">\n",
              "      <div>\n",
              "<style scoped>\n",
              "    .dataframe tbody tr th:only-of-type {\n",
              "        vertical-align: middle;\n",
              "    }\n",
              "\n",
              "    .dataframe tbody tr th {\n",
              "        vertical-align: top;\n",
              "    }\n",
              "\n",
              "    .dataframe thead th {\n",
              "        text-align: right;\n",
              "    }\n",
              "</style>\n",
              "<table border=\"1\" class=\"dataframe\">\n",
              "  <thead>\n",
              "    <tr style=\"text-align: right;\">\n",
              "      <th></th>\n",
              "      <th>Time</th>\n",
              "      <th>V1</th>\n",
              "      <th>V2</th>\n",
              "      <th>V3</th>\n",
              "      <th>V4</th>\n",
              "      <th>V5</th>\n",
              "      <th>V6</th>\n",
              "      <th>V7</th>\n",
              "      <th>V8</th>\n",
              "      <th>V9</th>\n",
              "      <th>...</th>\n",
              "      <th>V20</th>\n",
              "      <th>V21</th>\n",
              "      <th>V22</th>\n",
              "      <th>V23</th>\n",
              "      <th>V24</th>\n",
              "      <th>V25</th>\n",
              "      <th>V26</th>\n",
              "      <th>V27</th>\n",
              "      <th>V28</th>\n",
              "      <th>Amount</th>\n",
              "    </tr>\n",
              "  </thead>\n",
              "  <tbody>\n",
              "    <tr>\n",
              "      <th>278983</th>\n",
              "      <td>168568.0</td>\n",
              "      <td>-0.633367</td>\n",
              "      <td>-0.209812</td>\n",
              "      <td>0.799048</td>\n",
              "      <td>-1.255835</td>\n",
              "      <td>-0.507774</td>\n",
              "      <td>0.139280</td>\n",
              "      <td>0.673000</td>\n",
              "      <td>-0.032002</td>\n",
              "      <td>-1.218490</td>\n",
              "      <td>...</td>\n",
              "      <td>-0.548251</td>\n",
              "      <td>-0.235066</td>\n",
              "      <td>-0.213207</td>\n",
              "      <td>-0.024843</td>\n",
              "      <td>-0.423087</td>\n",
              "      <td>-0.430867</td>\n",
              "      <td>0.228591</td>\n",
              "      <td>0.060273</td>\n",
              "      <td>0.128215</td>\n",
              "      <td>160.21</td>\n",
              "    </tr>\n",
              "    <tr>\n",
              "      <th>88128</th>\n",
              "      <td>61998.0</td>\n",
              "      <td>-0.376680</td>\n",
              "      <td>0.423100</td>\n",
              "      <td>2.259825</td>\n",
              "      <td>-0.028972</td>\n",
              "      <td>-0.703751</td>\n",
              "      <td>0.027954</td>\n",
              "      <td>-0.105448</td>\n",
              "      <td>0.228011</td>\n",
              "      <td>0.317381</td>\n",
              "      <td>...</td>\n",
              "      <td>0.009564</td>\n",
              "      <td>0.274027</td>\n",
              "      <td>0.727819</td>\n",
              "      <td>-0.175753</td>\n",
              "      <td>-0.099335</td>\n",
              "      <td>-0.202768</td>\n",
              "      <td>0.465154</td>\n",
              "      <td>0.058439</td>\n",
              "      <td>0.067656</td>\n",
              "      <td>35.04</td>\n",
              "    </tr>\n",
              "    <tr>\n",
              "      <th>18484</th>\n",
              "      <td>29539.0</td>\n",
              "      <td>0.947649</td>\n",
              "      <td>-0.082725</td>\n",
              "      <td>0.731251</td>\n",
              "      <td>1.351093</td>\n",
              "      <td>-0.620014</td>\n",
              "      <td>-0.422054</td>\n",
              "      <td>-0.016410</td>\n",
              "      <td>-0.014109</td>\n",
              "      <td>0.115712</td>\n",
              "      <td>...</td>\n",
              "      <td>0.022239</td>\n",
              "      <td>0.031350</td>\n",
              "      <td>-0.099200</td>\n",
              "      <td>0.014402</td>\n",
              "      <td>0.371860</td>\n",
              "      <td>0.253628</td>\n",
              "      <td>-0.479422</td>\n",
              "      <td>0.030756</td>\n",
              "      <td>0.049019</td>\n",
              "      <td>106.89</td>\n",
              "    </tr>\n",
              "    <tr>\n",
              "      <th>48072</th>\n",
              "      <td>43484.0</td>\n",
              "      <td>-0.005901</td>\n",
              "      <td>0.014000</td>\n",
              "      <td>1.149302</td>\n",
              "      <td>-1.189750</td>\n",
              "      <td>0.073894</td>\n",
              "      <td>0.223494</td>\n",
              "      <td>0.649370</td>\n",
              "      <td>-0.516010</td>\n",
              "      <td>-1.067366</td>\n",
              "      <td>...</td>\n",
              "      <td>0.322770</td>\n",
              "      <td>0.262399</td>\n",
              "      <td>1.083823</td>\n",
              "      <td>-0.274848</td>\n",
              "      <td>-0.708646</td>\n",
              "      <td>-0.330401</td>\n",
              "      <td>-0.077370</td>\n",
              "      <td>-0.261153</td>\n",
              "      <td>-0.315882</td>\n",
              "      <td>64.36</td>\n",
              "    </tr>\n",
              "    <tr>\n",
              "      <th>98104</th>\n",
              "      <td>66521.0</td>\n",
              "      <td>-0.195131</td>\n",
              "      <td>0.373973</td>\n",
              "      <td>1.234187</td>\n",
              "      <td>-1.261088</td>\n",
              "      <td>-0.394557</td>\n",
              "      <td>-0.777923</td>\n",
              "      <td>0.096931</td>\n",
              "      <td>0.012420</td>\n",
              "      <td>-1.615675</td>\n",
              "      <td>...</td>\n",
              "      <td>0.167793</td>\n",
              "      <td>0.034995</td>\n",
              "      <td>-0.080002</td>\n",
              "      <td>0.058455</td>\n",
              "      <td>0.215556</td>\n",
              "      <td>-0.691219</td>\n",
              "      <td>-0.609697</td>\n",
              "      <td>0.160780</td>\n",
              "      <td>0.174838</td>\n",
              "      <td>15.00</td>\n",
              "    </tr>\n",
              "    <tr>\n",
              "      <th>...</th>\n",
              "      <td>...</td>\n",
              "      <td>...</td>\n",
              "      <td>...</td>\n",
              "      <td>...</td>\n",
              "      <td>...</td>\n",
              "      <td>...</td>\n",
              "      <td>...</td>\n",
              "      <td>...</td>\n",
              "      <td>...</td>\n",
              "      <td>...</td>\n",
              "      <td>...</td>\n",
              "      <td>...</td>\n",
              "      <td>...</td>\n",
              "      <td>...</td>\n",
              "      <td>...</td>\n",
              "      <td>...</td>\n",
              "      <td>...</td>\n",
              "      <td>...</td>\n",
              "      <td>...</td>\n",
              "      <td>...</td>\n",
              "      <td>...</td>\n",
              "    </tr>\n",
              "    <tr>\n",
              "      <th>279863</th>\n",
              "      <td>169142.0</td>\n",
              "      <td>-1.927883</td>\n",
              "      <td>1.125653</td>\n",
              "      <td>-4.518331</td>\n",
              "      <td>1.749293</td>\n",
              "      <td>-1.566487</td>\n",
              "      <td>-2.010494</td>\n",
              "      <td>-0.882850</td>\n",
              "      <td>0.697211</td>\n",
              "      <td>-2.064945</td>\n",
              "      <td>...</td>\n",
              "      <td>1.252967</td>\n",
              "      <td>0.778584</td>\n",
              "      <td>-0.319189</td>\n",
              "      <td>0.639419</td>\n",
              "      <td>-0.294885</td>\n",
              "      <td>0.537503</td>\n",
              "      <td>0.788395</td>\n",
              "      <td>0.292680</td>\n",
              "      <td>0.147968</td>\n",
              "      <td>390.00</td>\n",
              "    </tr>\n",
              "    <tr>\n",
              "      <th>280143</th>\n",
              "      <td>169347.0</td>\n",
              "      <td>1.378559</td>\n",
              "      <td>1.289381</td>\n",
              "      <td>-5.004247</td>\n",
              "      <td>1.411850</td>\n",
              "      <td>0.442581</td>\n",
              "      <td>-1.326536</td>\n",
              "      <td>-1.413170</td>\n",
              "      <td>0.248525</td>\n",
              "      <td>-1.127396</td>\n",
              "      <td>...</td>\n",
              "      <td>0.226138</td>\n",
              "      <td>0.370612</td>\n",
              "      <td>0.028234</td>\n",
              "      <td>-0.145640</td>\n",
              "      <td>-0.081049</td>\n",
              "      <td>0.521875</td>\n",
              "      <td>0.739467</td>\n",
              "      <td>0.389152</td>\n",
              "      <td>0.186637</td>\n",
              "      <td>0.76</td>\n",
              "    </tr>\n",
              "    <tr>\n",
              "      <th>280149</th>\n",
              "      <td>169351.0</td>\n",
              "      <td>-0.676143</td>\n",
              "      <td>1.126366</td>\n",
              "      <td>-2.213700</td>\n",
              "      <td>0.468308</td>\n",
              "      <td>-1.120541</td>\n",
              "      <td>-0.003346</td>\n",
              "      <td>-2.234739</td>\n",
              "      <td>1.210158</td>\n",
              "      <td>-0.652250</td>\n",
              "      <td>...</td>\n",
              "      <td>0.247968</td>\n",
              "      <td>0.751826</td>\n",
              "      <td>0.834108</td>\n",
              "      <td>0.190944</td>\n",
              "      <td>0.032070</td>\n",
              "      <td>-0.739695</td>\n",
              "      <td>0.471111</td>\n",
              "      <td>0.385107</td>\n",
              "      <td>0.194361</td>\n",
              "      <td>77.89</td>\n",
              "    </tr>\n",
              "    <tr>\n",
              "      <th>281144</th>\n",
              "      <td>169966.0</td>\n",
              "      <td>-3.113832</td>\n",
              "      <td>0.585864</td>\n",
              "      <td>-5.399730</td>\n",
              "      <td>1.817092</td>\n",
              "      <td>-0.840618</td>\n",
              "      <td>-2.943548</td>\n",
              "      <td>-2.208002</td>\n",
              "      <td>1.058733</td>\n",
              "      <td>-1.632333</td>\n",
              "      <td>...</td>\n",
              "      <td>0.306271</td>\n",
              "      <td>0.583276</td>\n",
              "      <td>-0.269209</td>\n",
              "      <td>-0.456108</td>\n",
              "      <td>-0.183659</td>\n",
              "      <td>-0.328168</td>\n",
              "      <td>0.606116</td>\n",
              "      <td>0.884876</td>\n",
              "      <td>-0.253700</td>\n",
              "      <td>245.00</td>\n",
              "    </tr>\n",
              "    <tr>\n",
              "      <th>281674</th>\n",
              "      <td>170348.0</td>\n",
              "      <td>1.991976</td>\n",
              "      <td>0.158476</td>\n",
              "      <td>-2.583441</td>\n",
              "      <td>0.408670</td>\n",
              "      <td>1.151147</td>\n",
              "      <td>-0.096695</td>\n",
              "      <td>0.223050</td>\n",
              "      <td>-0.068384</td>\n",
              "      <td>0.577829</td>\n",
              "      <td>...</td>\n",
              "      <td>-0.017652</td>\n",
              "      <td>-0.164350</td>\n",
              "      <td>-0.295135</td>\n",
              "      <td>-0.072173</td>\n",
              "      <td>-0.450261</td>\n",
              "      <td>0.313267</td>\n",
              "      <td>-0.289617</td>\n",
              "      <td>0.002988</td>\n",
              "      <td>-0.015309</td>\n",
              "      <td>42.53</td>\n",
              "    </tr>\n",
              "  </tbody>\n",
              "</table>\n",
              "<p>984 rows × 30 columns</p>\n",
              "</div>\n",
              "      <button class=\"colab-df-convert\" onclick=\"convertToInteractive('df-9d0cecd7-3df1-4b43-9937-aa3aeed25008')\"\n",
              "              title=\"Convert this dataframe to an interactive table.\"\n",
              "              style=\"display:none;\">\n",
              "        \n",
              "  <svg xmlns=\"http://www.w3.org/2000/svg\" height=\"24px\"viewBox=\"0 0 24 24\"\n",
              "       width=\"24px\">\n",
              "    <path d=\"M0 0h24v24H0V0z\" fill=\"none\"/>\n",
              "    <path d=\"M18.56 5.44l.94 2.06.94-2.06 2.06-.94-2.06-.94-.94-2.06-.94 2.06-2.06.94zm-11 1L8.5 8.5l.94-2.06 2.06-.94-2.06-.94L8.5 2.5l-.94 2.06-2.06.94zm10 10l.94 2.06.94-2.06 2.06-.94-2.06-.94-.94-2.06-.94 2.06-2.06.94z\"/><path d=\"M17.41 7.96l-1.37-1.37c-.4-.4-.92-.59-1.43-.59-.52 0-1.04.2-1.43.59L10.3 9.45l-7.72 7.72c-.78.78-.78 2.05 0 2.83L4 21.41c.39.39.9.59 1.41.59.51 0 1.02-.2 1.41-.59l7.78-7.78 2.81-2.81c.8-.78.8-2.07 0-2.86zM5.41 20L4 18.59l7.72-7.72 1.47 1.35L5.41 20z\"/>\n",
              "  </svg>\n",
              "      </button>\n",
              "      \n",
              "  <style>\n",
              "    .colab-df-container {\n",
              "      display:flex;\n",
              "      flex-wrap:wrap;\n",
              "      gap: 12px;\n",
              "    }\n",
              "\n",
              "    .colab-df-convert {\n",
              "      background-color: #E8F0FE;\n",
              "      border: none;\n",
              "      border-radius: 50%;\n",
              "      cursor: pointer;\n",
              "      display: none;\n",
              "      fill: #1967D2;\n",
              "      height: 32px;\n",
              "      padding: 0 0 0 0;\n",
              "      width: 32px;\n",
              "    }\n",
              "\n",
              "    .colab-df-convert:hover {\n",
              "      background-color: #E2EBFA;\n",
              "      box-shadow: 0px 1px 2px rgba(60, 64, 67, 0.3), 0px 1px 3px 1px rgba(60, 64, 67, 0.15);\n",
              "      fill: #174EA6;\n",
              "    }\n",
              "\n",
              "    [theme=dark] .colab-df-convert {\n",
              "      background-color: #3B4455;\n",
              "      fill: #D2E3FC;\n",
              "    }\n",
              "\n",
              "    [theme=dark] .colab-df-convert:hover {\n",
              "      background-color: #434B5C;\n",
              "      box-shadow: 0px 1px 3px 1px rgba(0, 0, 0, 0.15);\n",
              "      filter: drop-shadow(0px 1px 2px rgba(0, 0, 0, 0.3));\n",
              "      fill: #FFFFFF;\n",
              "    }\n",
              "  </style>\n",
              "\n",
              "      <script>\n",
              "        const buttonEl =\n",
              "          document.querySelector('#df-9d0cecd7-3df1-4b43-9937-aa3aeed25008 button.colab-df-convert');\n",
              "        buttonEl.style.display =\n",
              "          google.colab.kernel.accessAllowed ? 'block' : 'none';\n",
              "\n",
              "        async function convertToInteractive(key) {\n",
              "          const element = document.querySelector('#df-9d0cecd7-3df1-4b43-9937-aa3aeed25008');\n",
              "          const dataTable =\n",
              "            await google.colab.kernel.invokeFunction('convertToInteractive',\n",
              "                                                     [key], {});\n",
              "          if (!dataTable) return;\n",
              "\n",
              "          const docLinkHtml = 'Like what you see? Visit the ' +\n",
              "            '<a target=\"_blank\" href=https://colab.research.google.com/notebooks/data_table.ipynb>data table notebook</a>'\n",
              "            + ' to learn more about interactive tables.';\n",
              "          element.innerHTML = '';\n",
              "          dataTable['output_type'] = 'display_data';\n",
              "          await google.colab.output.renderOutput(dataTable, element);\n",
              "          const docLink = document.createElement('div');\n",
              "          docLink.innerHTML = docLinkHtml;\n",
              "          element.appendChild(docLink);\n",
              "        }\n",
              "      </script>\n",
              "    </div>\n",
              "  </div>\n",
              "  "
            ]
          },
          "metadata": {},
          "execution_count": 61
        }
      ]
    },
    {
      "cell_type": "code",
      "source": [
        "Y"
      ],
      "metadata": {
        "colab": {
          "base_uri": "https://localhost:8080/"
        },
        "id": "2dIGe3eR_XOW",
        "outputId": "051ce1e3-9b1a-4668-da38-14a362f2999e"
      },
      "execution_count": null,
      "outputs": [
        {
          "output_type": "execute_result",
          "data": {
            "text/plain": [
              "278983    0\n",
              "88128     0\n",
              "18484     0\n",
              "48072     0\n",
              "98104     0\n",
              "         ..\n",
              "279863    1\n",
              "280143    1\n",
              "280149    1\n",
              "281144    1\n",
              "281674    1\n",
              "Name: Class, Length: 984, dtype: int64"
            ]
          },
          "metadata": {},
          "execution_count": 63
        }
      ]
    },
    {
      "cell_type": "code",
      "source": [
        "X_train, X_test, Y_train, Y_test = train_test_split(X, Y, test_size=0.2, stratify=Y, random_state=2)\n"
      ],
      "metadata": {
        "id": "1leTUO5P_qDr"
      },
      "execution_count": null,
      "outputs": []
    },
    {
      "cell_type": "code",
      "source": [
        "print(X.shape, X_train, X_test.shape)"
      ],
      "metadata": {
        "colab": {
          "base_uri": "https://localhost:8080/"
        },
        "id": "zNAOz3G1_zGv",
        "outputId": "4f20d389-38a5-49d2-de58-bcbcd3e6b9a6"
      },
      "execution_count": null,
      "outputs": [
        {
          "output_type": "stream",
          "name": "stdout",
          "text": [
            "(984, 30)             Time         V1        V2         V3        V4         V5  \\\n",
            "100623   67571.0  -0.758469 -0.045410  -0.168438 -1.313275  -1.901763   \n",
            "155751  106303.0   1.873928 -0.432011  -0.511812  0.132338   0.212997   \n",
            "40077    40083.0  -0.908313 -0.159054   1.007995  1.350622  -1.030737   \n",
            "242188  151381.0   0.123399  0.957136  -0.537840 -0.736945   1.117108   \n",
            "123516   76962.0  -3.423542  2.880791   0.687580 -0.179934  -1.309599   \n",
            "...          ...        ...       ...        ...       ...        ...   \n",
            "112509   72683.0  -2.996058 -1.149053   2.214443 -0.072135  -0.416829   \n",
            "261978  160262.0   1.733081 -1.458099  -1.837925 -0.907559  -0.488212   \n",
            "223618  143456.0  -2.006582  3.676577  -5.463811  7.232058  -1.627859   \n",
            "43061    41353.0 -15.020981  8.075240 -16.298091  5.664820 -11.918153   \n",
            "77343    57007.0  -2.831815 -0.013577   0.967512 -0.515683  -1.489355   \n",
            "\n",
            "              V6         V7        V8        V9  ...       V20       V21  \\\n",
            "100623  0.739433   3.071892 -0.483422  0.618203  ... -0.032500  0.042619   \n",
            "155751  1.308348  -0.961770  0.485894  2.552909  ... -0.422963 -0.190687   \n",
            "40077   0.695669   1.884559  0.049570 -1.112481  ...  0.887698  0.231553   \n",
            "242188 -0.312117   0.863246  0.067226 -0.258727  ...  0.036846 -0.313436   \n",
            "123516  0.190222  -0.678887  1.059055  2.099686  ...  1.339795 -0.412475   \n",
            "...          ...        ...       ...       ...  ...       ...       ...   \n",
            "112509  0.856458   1.945567 -1.945393  1.770388  ... -1.165792 -0.567048   \n",
            "261978 -0.850332   0.059352 -0.309753 -0.886836  ...  0.445951  0.225140   \n",
            "223618 -0.996755  -4.299833  2.268867 -3.651067  ...  0.474414  0.713907   \n",
            "43061  -4.246957 -14.716668  9.435084 -6.795398  ... -0.995787  2.525115   \n",
            "77343  -0.720882  -0.873230  1.365413  0.433706  ... -0.536021 -0.035603   \n",
            "\n",
            "             V22       V23       V24       V25       V26       V27       V28  \\\n",
            "100623  0.397224  0.072229 -0.242276  0.560916 -0.540955  0.150606 -0.117140   \n",
            "155751 -0.143505  0.371802 -1.782084 -0.588194 -0.846958  0.070476 -0.062936   \n",
            "40077  -0.069871  0.931258  0.145079 -0.041016 -0.436043 -0.063209  0.058095   \n",
            "242188 -0.801376  0.048179  0.171747 -0.408511  0.117093  0.215972  0.070463   \n",
            "123516 -0.382286 -0.163236 -0.465236  0.766892  0.543258  0.943851  0.403846   \n",
            "...          ...       ...       ...       ...       ...       ...       ...   \n",
            "112509  0.858601 -0.494501  0.201847 -0.090993  1.057569 -2.431864 -0.275496   \n",
            "261978 -0.007337 -0.050875 -0.467480 -0.164037 -0.328864 -0.098668 -0.035090   \n",
            "223618 -0.063868  0.167947 -0.449864  0.023702  0.536905  0.485864 -0.042393   \n",
            "43061  -0.832074 -0.186117  0.429781  0.697103  0.056031 -1.310888 -0.707403   \n",
            "77343  -0.433296  0.229768  0.446992 -0.092424  0.766631 -0.482451 -0.425055   \n",
            "\n",
            "        Amount  \n",
            "100623  549.06  \n",
            "155751    1.55  \n",
            "40077   415.36  \n",
            "242188    5.99  \n",
            "123516    3.68  \n",
            "...        ...  \n",
            "112509  258.00  \n",
            "261978  259.00  \n",
            "223618    1.00  \n",
            "43061    34.12  \n",
            "77343    10.00  \n",
            "\n",
            "[787 rows x 30 columns] (197, 30)\n"
          ]
        }
      ]
    },
    {
      "cell_type": "code",
      "source": [],
      "metadata": {
        "id": "_iHMcV_A_9bh"
      },
      "execution_count": null,
      "outputs": []
    },
    {
      "cell_type": "markdown",
      "source": [
        "Model Training\n",
        "\n",
        "Logistic Regressions "
      ],
      "metadata": {
        "id": "7sYCInxdALUY"
      }
    },
    {
      "cell_type": "code",
      "source": [
        "model = LogisticRegression()"
      ],
      "metadata": {
        "id": "_QHSFAfmAPKE"
      },
      "execution_count": null,
      "outputs": []
    },
    {
      "cell_type": "code",
      "source": [
        "# Logistic Regression model with Training Data\n",
        "model.fit(X_train, Y_train)"
      ],
      "metadata": {
        "colab": {
          "base_uri": "https://localhost:8080/"
        },
        "id": "DteudfbdAXDF",
        "outputId": "407df6c7-382d-4c24-cbce-b1299be2b5c4"
      },
      "execution_count": null,
      "outputs": [
        {
          "output_type": "execute_result",
          "data": {
            "text/plain": [
              "LogisticRegression()"
            ]
          },
          "metadata": {},
          "execution_count": 72
        }
      ]
    },
    {
      "cell_type": "code",
      "source": [],
      "metadata": {
        "id": "AY6zBUHyAlJ9"
      },
      "execution_count": null,
      "outputs": []
    },
    {
      "cell_type": "markdown",
      "source": [
        "Model Evaluation \n",
        "\n",
        "Accuracy Score"
      ],
      "metadata": {
        "id": "AdBsf61ZA5C1"
      }
    },
    {
      "cell_type": "code",
      "source": [
        "# Accuracy of training data\n",
        "X_train_prediction = model.predict(X_train)\n",
        "training_data_accuracy = accuracy_score(X_train_prediction, Y_train)"
      ],
      "metadata": {
        "id": "y9E9sDLJA6q1"
      },
      "execution_count": null,
      "outputs": []
    },
    {
      "cell_type": "code",
      "source": [
        "print(\"Accuracy of Training data :\", training_data_accuracy)"
      ],
      "metadata": {
        "colab": {
          "base_uri": "https://localhost:8080/"
        },
        "id": "ef9umlr4BY8s",
        "outputId": "ed0e2b78-e4b2-4cf8-ac7b-3a5f732a2880"
      },
      "execution_count": null,
      "outputs": [
        {
          "output_type": "stream",
          "name": "stdout",
          "text": [
            "Accuracy of Training data : 0.9224904701397713\n"
          ]
        }
      ]
    },
    {
      "cell_type": "code",
      "source": [
        "# Accuracy of Test data\n",
        "X_test_prediction = model.predict(X_test)\n",
        "test_data_accuracy = accuracy_score(X_test_prediction, Y_test)"
      ],
      "metadata": {
        "id": "r2yfMOaXBgiE"
      },
      "execution_count": null,
      "outputs": []
    },
    {
      "cell_type": "code",
      "source": [
        "print(\"Accuracy of Test data :\", test_data_accuracy)"
      ],
      "metadata": {
        "colab": {
          "base_uri": "https://localhost:8080/"
        },
        "id": "Nivl_5anB-Pd",
        "outputId": "e49d394b-41ba-48a1-c1b5-97d3aa989d6a"
      },
      "execution_count": null,
      "outputs": [
        {
          "output_type": "stream",
          "name": "stdout",
          "text": [
            "Accuracy of Test data : 0.9086294416243654\n"
          ]
        }
      ]
    },
    {
      "cell_type": "code",
      "source": [],
      "metadata": {
        "id": "5f8_7kT2CHqU"
      },
      "execution_count": null,
      "outputs": []
    }
  ],
  "metadata": {
    "colab": {
      "provenance": [],
      "toc_visible": true
    },
    "kernelspec": {
      "display_name": "Python 3",
      "name": "python3"
    },
    "language_info": {
      "name": "python"
    }
  },
  "nbformat": 4,
  "nbformat_minor": 0
}